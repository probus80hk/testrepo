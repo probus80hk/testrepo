{
 "cells": [
  {
   "cell_type": "markdown",
   "id": "865c8de4-5d21-4871-a027-84d81ca2c9eb",
   "metadata": {},
   "source": [
    "# Data Science Tools and Ecosystem"
   ]
  },
  {
   "cell_type": "markdown",
   "id": "3e34b42d-9973-4c87-a695-5f543fb104a2",
   "metadata": {},
   "source": [
    "In this notebook, Data Science Tools and Ecosystem are summarized."
   ]
  },
  {
   "cell_type": "markdown",
   "id": "d071978a-4bf8-4af7-9701-610914d9af67",
   "metadata": {},
   "source": [
    "**Objectives:**\n",
    "- List popular languages for Data Science\n",
    "- How to use Jupyter\n",
    "- Categories of Data Science Tools"
   ]
  },
  {
   "cell_type": "markdown",
   "id": "82021a95-c6d2-4062-9d45-153a0ecdc0b8",
   "metadata": {},
   "source": [
    "----------------------------------------------------------------------\n",
    "Some of the popular languages that Data Scientists use are:\n",
    "1. Python\n",
    "2. R\n",
    "3. SQL"
   ]
  },
  {
   "cell_type": "markdown",
   "id": "6c77d37a-0f27-48d9-ab79-4a0e5a0325c5",
   "metadata": {},
   "source": [
    "----------------------------------------------------------------------\n",
    "Some of the commonly used libraries used by Data Scientists include:\n",
    "1. Numpy\n",
    "2. Pandas\n",
    "3. Seaborn"
   ]
  },
  {
   "cell_type": "markdown",
   "id": "209df0b9-d75c-4435-9fe8-e452742b8347",
   "metadata": {},
   "source": [
    "|Data Science Tools|\n",
    "|------------------|\n",
    "|Anaconda Jupyter Environments|\n",
    "|Spyder|\n",
    "|VS Code|"
   ]
  },
  {
   "cell_type": "markdown",
   "id": "821f9448-72f1-4b93-b977-b31901fc071c",
   "metadata": {},
   "source": [
    "### Below are a few examples of evaluating arithmetic expressions in Python"
   ]
  },
  {
   "cell_type": "code",
   "execution_count": 8,
   "id": "e2ad4b32-a195-4497-b9f9-65074e809ee7",
   "metadata": {},
   "outputs": [
    {
     "data": {
      "text/plain": [
       "17"
      ]
     },
     "execution_count": 8,
     "metadata": {},
     "output_type": "execute_result"
    }
   ],
   "source": [
    "# This a simple arithmetic expression to mutiply then add integers\n",
    "(3*4)+5"
   ]
  },
  {
   "cell_type": "code",
   "execution_count": 9,
   "id": "ff44f7c8-b37c-4b9e-bf76-55c8907d7d94",
   "metadata": {},
   "outputs": [
    {
     "data": {
      "text/plain": [
       "3.3333333333333335"
      ]
     },
     "execution_count": 9,
     "metadata": {},
     "output_type": "execute_result"
    }
   ],
   "source": [
    "# This will convert 200 minutes to hours by diving by 60\n",
    "200/60"
   ]
  },
  {
   "cell_type": "markdown",
   "id": "159f1703-a516-4b76-9b6c-062e820ab129",
   "metadata": {},
   "source": [
    "## Author\n",
    "Wong Sio Kei"
   ]
  }
 ],
 "metadata": {
  "kernelspec": {
   "display_name": "Python 3 (ipykernel)",
   "language": "python",
   "name": "python3"
  },
  "language_info": {
   "codemirror_mode": {
    "name": "ipython",
    "version": 3
   },
   "file_extension": ".py",
   "mimetype": "text/x-python",
   "name": "python",
   "nbconvert_exporter": "python",
   "pygments_lexer": "ipython3",
   "version": "3.11.9"
  }
 },
 "nbformat": 4,
 "nbformat_minor": 5
}
